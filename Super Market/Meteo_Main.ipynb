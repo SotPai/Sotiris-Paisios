{
 "cells": [
  {
   "cell_type": "code",
   "execution_count": 1,
   "id": "d2193e1d",
   "metadata": {},
   "outputs": [
    {
     "name": "stderr",
     "output_type": "stream",
     "text": [
      "C:\\miniconda3\\lib\\site-packages\\numpy\\_distributor_init.py:30: UserWarning: loaded more than 1 DLL from .libs:\n",
      "C:\\miniconda3\\lib\\site-packages\\numpy\\.libs\\libopenblas.XWYDX2IKJW2NMTWSFYNGFUWKQU3LYTCZ.gfortran-win_amd64.dll\n",
      "C:\\miniconda3\\lib\\site-packages\\numpy\\.libs\\libopenblas64__v0.3.21-gcc_10_3_0.dll\n",
      "  warnings.warn(\"loaded more than 1 DLL from .libs:\"\n"
     ]
    }
   ],
   "source": [
    "# libraries\n",
    "\n",
    "import pandas as pd\n",
    "import glob\n",
    "import numpy as np\n",
    "from pandasql import sqldf \n",
    "import plotly.express as px\n",
    "import seaborn as sns\n",
    "import matplotlib.pyplot as plt\n",
    "import os\n",
    "mysql = lambda q: sqldf(q, globals())\n",
    "from sklearn.linear_model import (LinearRegression, \n",
    "                                  HuberRegressor, \n",
    "                                  RANSACRegressor, \n",
    "                                  TheilSenRegressor)\n",
    "import statsmodels.api as sm"
   ]
  },
  {
   "cell_type": "code",
   "execution_count": 2,
   "id": "e61c4621",
   "metadata": {},
   "outputs": [],
   "source": [
    "absolute_path = 'C:/Users/user/OneDrive/Υπολογιστής/Αγροτικα/MeteoData'\n",
    "os.chdir(absolute_path)"
   ]
  },
  {
   "cell_type": "code",
   "execution_count": 3,
   "id": "289de5a1",
   "metadata": {},
   "outputs": [
    {
     "name": "stdout",
     "output_type": "stream",
     "text": [
      "New working directory is:  C:\\Users\\user\\OneDrive\\Υπολογιστής\\Αγροτικα\\MeteoData\n"
     ]
    }
   ],
   "source": [
    "print('New working directory is: ', os.getcwd())"
   ]
  },
  {
   "cell_type": "code",
   "execution_count": 4,
   "id": "cdff25bd",
   "metadata": {},
   "outputs": [
    {
     "name": "stderr",
     "output_type": "stream",
     "text": [
      "'ls' is not recognized as an internal or external command,\n",
      "operable program or batch file.\n"
     ]
    }
   ],
   "source": [
    "!ls"
   ]
  },
  {
   "cell_type": "code",
   "execution_count": 5,
   "id": "bcb64b0a",
   "metadata": {},
   "outputs": [
    {
     "name": "stderr",
     "output_type": "stream",
     "text": [
      "'head' is not recognized as an internal or external command,\n",
      "operable program or batch file.\n"
     ]
    }
   ],
   "source": [
    "!head -12 2011-05.txt"
   ]
  },
  {
   "cell_type": "code",
   "execution_count": 6,
   "id": "a66bcbae",
   "metadata": {},
   "outputs": [
    {
     "name": "stderr",
     "output_type": "stream",
     "text": [
      "'tail' is not recognized as an internal or external command,\n",
      "operable program or batch file.\n"
     ]
    }
   ],
   "source": [
    "!tail -5 2011-05.txt"
   ]
  },
  {
   "cell_type": "code",
   "execution_count": 7,
   "id": "4516d865",
   "metadata": {},
   "outputs": [
    {
     "data": {
      "text/plain": [
       "'C:\\\\Users\\\\user\\\\OneDrive\\\\Υπολογιστής\\\\Αγροτικα\\\\MeteoData'"
      ]
     },
     "execution_count": 7,
     "metadata": {},
     "output_type": "execute_result"
    }
   ],
   "source": [
    "%pwd"
   ]
  },
  {
   "cell_type": "code",
   "execution_count": 8,
   "id": "0cb55ccf",
   "metadata": {},
   "outputs": [],
   "source": [
    "# specify entire folder\n",
    "folder_path = 'C:/Users/user/OneDrive/Υπολογιστής/Αγροτικα/MeteoData'\n",
    "\n",
    "# create list of files\n",
    "file_list = glob.glob(folder_path + \"/*.txt\")\n",
    "\n",
    "# create pandas dataframe\n",
    "main_dataframe = pd.read_fwf(file_list[0], header=None, widths=[3,7,6,8,5,8,7,6,5,7,7,8,6], skiprows=10)\n",
    "main_dataframe.drop(main_dataframe.tail(2).index, inplace = True)\n",
    "\n",
    "# populate pandas dataframe\n",
    "for i in range(1, len(file_list)):\n",
    "    data = pd.read_fwf(file_list[i], header=None, widths=[3,7,6,8,5,8,7,6,5,7,7,8,6], skiprows=10)\n",
    "    df = pd.DataFrame(data)\n",
    "    df.drop(df.tail(2).index, inplace = True)\n",
    "    main_dataframe = pd.concat([main_dataframe,df], axis=0)"
   ]
  },
  {
   "cell_type": "code",
   "execution_count": 9,
   "id": "66483cf5",
   "metadata": {},
   "outputs": [
    {
     "data": {
      "text/plain": [
       "(4322, 13)"
      ]
     },
     "execution_count": 9,
     "metadata": {},
     "output_type": "execute_result"
    }
   ],
   "source": [
    "main_dataframe.shape"
   ]
  },
  {
   "cell_type": "code",
   "execution_count": 10,
   "id": "24c2c4eb",
   "metadata": {},
   "outputs": [
    {
     "data": {
      "text/html": [
       "<div>\n",
       "<style scoped>\n",
       "    .dataframe tbody tr th:only-of-type {\n",
       "        vertical-align: middle;\n",
       "    }\n",
       "\n",
       "    .dataframe tbody tr th {\n",
       "        vertical-align: top;\n",
       "    }\n",
       "\n",
       "    .dataframe thead th {\n",
       "        text-align: right;\n",
       "    }\n",
       "</style>\n",
       "<table border=\"1\" class=\"dataframe\">\n",
       "  <thead>\n",
       "    <tr style=\"text-align: right;\">\n",
       "      <th></th>\n",
       "      <th>0</th>\n",
       "      <th>1</th>\n",
       "      <th>2</th>\n",
       "      <th>3</th>\n",
       "      <th>4</th>\n",
       "      <th>5</th>\n",
       "      <th>6</th>\n",
       "      <th>7</th>\n",
       "      <th>8</th>\n",
       "      <th>9</th>\n",
       "      <th>10</th>\n",
       "      <th>11</th>\n",
       "      <th>12</th>\n",
       "    </tr>\n",
       "  </thead>\n",
       "  <tbody>\n",
       "    <tr>\n",
       "      <th>23</th>\n",
       "      <td>24</td>\n",
       "      <td>13.1</td>\n",
       "      <td>17.9</td>\n",
       "      <td>16:20</td>\n",
       "      <td>9.8</td>\n",
       "      <td>00:00</td>\n",
       "      <td>90</td>\n",
       "      <td>63</td>\n",
       "      <td>0.0</td>\n",
       "      <td>0.2</td>\n",
       "      <td>16.1</td>\n",
       "      <td>15:10</td>\n",
       "      <td>NE</td>\n",
       "    </tr>\n",
       "    <tr>\n",
       "      <th>24</th>\n",
       "      <td>25</td>\n",
       "      <td>14.4</td>\n",
       "      <td>22.9</td>\n",
       "      <td>15:40</td>\n",
       "      <td>7.8</td>\n",
       "      <td>06:30</td>\n",
       "      <td>88</td>\n",
       "      <td>37</td>\n",
       "      <td>0.0</td>\n",
       "      <td>0.4</td>\n",
       "      <td>22.5</td>\n",
       "      <td>16:50</td>\n",
       "      <td>ESE</td>\n",
       "    </tr>\n",
       "    <tr>\n",
       "      <th>25</th>\n",
       "      <td>26</td>\n",
       "      <td>17.4</td>\n",
       "      <td>22.0</td>\n",
       "      <td>15:40</td>\n",
       "      <td>13.6</td>\n",
       "      <td>01:40</td>\n",
       "      <td>80</td>\n",
       "      <td>40</td>\n",
       "      <td>0.0</td>\n",
       "      <td>3.7</td>\n",
       "      <td>45.1</td>\n",
       "      <td>16:10</td>\n",
       "      <td>SSE</td>\n",
       "    </tr>\n",
       "    <tr>\n",
       "      <th>26</th>\n",
       "      <td>27</td>\n",
       "      <td>17.5</td>\n",
       "      <td>22.0</td>\n",
       "      <td>15:10</td>\n",
       "      <td>12.8</td>\n",
       "      <td>07:40</td>\n",
       "      <td>84</td>\n",
       "      <td>52</td>\n",
       "      <td>0.0</td>\n",
       "      <td>1.5</td>\n",
       "      <td>24.1</td>\n",
       "      <td>02:50</td>\n",
       "      <td>ESE</td>\n",
       "    </tr>\n",
       "    <tr>\n",
       "      <th>27</th>\n",
       "      <td>28</td>\n",
       "      <td>14.0</td>\n",
       "      <td>16.1</td>\n",
       "      <td>16:20</td>\n",
       "      <td>11.7</td>\n",
       "      <td>00:00</td>\n",
       "      <td>88</td>\n",
       "      <td>79</td>\n",
       "      <td>0.0</td>\n",
       "      <td>0.3</td>\n",
       "      <td>14.5</td>\n",
       "      <td>12:10</td>\n",
       "      <td>W</td>\n",
       "    </tr>\n",
       "  </tbody>\n",
       "</table>\n",
       "</div>"
      ],
      "text/plain": [
       "    0     1     2      3     4      5   6   7    8    9     10     11   12\n",
       "23  24  13.1  17.9  16:20   9.8  00:00  90  63  0.0  0.2  16.1  15:10   NE\n",
       "24  25  14.4  22.9  15:40   7.8  06:30  88  37  0.0  0.4  22.5  16:50  ESE\n",
       "25  26  17.4  22.0  15:40  13.6  01:40  80  40  0.0  3.7  45.1  16:10  SSE\n",
       "26  27  17.5  22.0  15:10  12.8  07:40  84  52  0.0  1.5  24.1  02:50  ESE\n",
       "27  28  14.0  16.1  16:20  11.7  00:00  88  79  0.0  0.3  14.5  12:10    W"
      ]
     },
     "execution_count": 10,
     "metadata": {},
     "output_type": "execute_result"
    }
   ],
   "source": [
    "main_dataframe.tail()"
   ]
  },
  {
   "cell_type": "code",
   "execution_count": 13,
   "id": "bb8172d7",
   "metadata": {},
   "outputs": [],
   "source": [
    "# create date range\n",
    "main_dataframe['date'] = pd.bdate_range(start='2011/05/01', end='2023/02/28', freq='D')"
   ]
  },
  {
   "cell_type": "code",
   "execution_count": 14,
   "id": "5c1a31f3",
   "metadata": {},
   "outputs": [
    {
     "data": {
      "text/plain": [
       "Index([0, 1, 2, 3, 4, 5, 6, 7, 8, 9, 10, 11, 12, 'date'], dtype='object')"
      ]
     },
     "execution_count": 14,
     "metadata": {},
     "output_type": "execute_result"
    }
   ],
   "source": [
    "main_dataframe.columns"
   ]
  },
  {
   "cell_type": "code",
   "execution_count": 15,
   "id": "d0896954",
   "metadata": {},
   "outputs": [],
   "source": [
    "# remove unesecery columns\n",
    "main_dataframe = main_dataframe.drop([0,6,7,9,10,11,12], axis=1)"
   ]
  },
  {
   "cell_type": "code",
   "execution_count": 16,
   "id": "b8593008",
   "metadata": {},
   "outputs": [
    {
     "data": {
      "text/html": [
       "<div>\n",
       "<style scoped>\n",
       "    .dataframe tbody tr th:only-of-type {\n",
       "        vertical-align: middle;\n",
       "    }\n",
       "\n",
       "    .dataframe tbody tr th {\n",
       "        vertical-align: top;\n",
       "    }\n",
       "\n",
       "    .dataframe thead th {\n",
       "        text-align: right;\n",
       "    }\n",
       "</style>\n",
       "<table border=\"1\" class=\"dataframe\">\n",
       "  <thead>\n",
       "    <tr style=\"text-align: right;\">\n",
       "      <th></th>\n",
       "      <th>1</th>\n",
       "      <th>2</th>\n",
       "      <th>3</th>\n",
       "      <th>4</th>\n",
       "      <th>5</th>\n",
       "      <th>8</th>\n",
       "      <th>date</th>\n",
       "    </tr>\n",
       "  </thead>\n",
       "  <tbody>\n",
       "    <tr>\n",
       "      <th>23</th>\n",
       "      <td>13.1</td>\n",
       "      <td>17.9</td>\n",
       "      <td>16:20</td>\n",
       "      <td>9.8</td>\n",
       "      <td>00:00</td>\n",
       "      <td>0.0</td>\n",
       "      <td>2023-02-24</td>\n",
       "    </tr>\n",
       "    <tr>\n",
       "      <th>24</th>\n",
       "      <td>14.4</td>\n",
       "      <td>22.9</td>\n",
       "      <td>15:40</td>\n",
       "      <td>7.8</td>\n",
       "      <td>06:30</td>\n",
       "      <td>0.0</td>\n",
       "      <td>2023-02-25</td>\n",
       "    </tr>\n",
       "    <tr>\n",
       "      <th>25</th>\n",
       "      <td>17.4</td>\n",
       "      <td>22.0</td>\n",
       "      <td>15:40</td>\n",
       "      <td>13.6</td>\n",
       "      <td>01:40</td>\n",
       "      <td>0.0</td>\n",
       "      <td>2023-02-26</td>\n",
       "    </tr>\n",
       "    <tr>\n",
       "      <th>26</th>\n",
       "      <td>17.5</td>\n",
       "      <td>22.0</td>\n",
       "      <td>15:10</td>\n",
       "      <td>12.8</td>\n",
       "      <td>07:40</td>\n",
       "      <td>0.0</td>\n",
       "      <td>2023-02-27</td>\n",
       "    </tr>\n",
       "    <tr>\n",
       "      <th>27</th>\n",
       "      <td>14.0</td>\n",
       "      <td>16.1</td>\n",
       "      <td>16:20</td>\n",
       "      <td>11.7</td>\n",
       "      <td>00:00</td>\n",
       "      <td>0.0</td>\n",
       "      <td>2023-02-28</td>\n",
       "    </tr>\n",
       "  </tbody>\n",
       "</table>\n",
       "</div>"
      ],
      "text/plain": [
       "       1     2      3     4      5    8       date\n",
       "23  13.1  17.9  16:20   9.8  00:00  0.0 2023-02-24\n",
       "24  14.4  22.9  15:40   7.8  06:30  0.0 2023-02-25\n",
       "25  17.4  22.0  15:40  13.6  01:40  0.0 2023-02-26\n",
       "26  17.5  22.0  15:10  12.8  07:40  0.0 2023-02-27\n",
       "27  14.0  16.1  16:20  11.7  00:00  0.0 2023-02-28"
      ]
     },
     "execution_count": 16,
     "metadata": {},
     "output_type": "execute_result"
    }
   ],
   "source": [
    "main_dataframe.tail()"
   ]
  },
  {
   "cell_type": "code",
   "execution_count": 17,
   "id": "f0d379cb",
   "metadata": {},
   "outputs": [],
   "source": [
    "#rename columns\n",
    "main_dataframe.rename(columns = {\n",
    "                                    1:'mean_temp',\n",
    "                                    2:'high_temp',\n",
    "                                    3:'high_temp_time',\n",
    "                                    4:'low_temp',\n",
    "                                    5:'low_temp_time',\n",
    "                                    8:'rain(mm)'\n",
    "                                }, \n",
    "                                inplace = True\n",
    "                     )"
   ]
  },
  {
   "cell_type": "code",
   "execution_count": 18,
   "id": "76eaacc4",
   "metadata": {},
   "outputs": [
    {
     "data": {
      "text/plain": [
       "Index(['mean_temp', 'high_temp', 'high_temp_time', 'low_temp', 'low_temp_time',\n",
       "       'rain(mm)', 'date'],\n",
       "      dtype='object')"
      ]
     },
     "execution_count": 18,
     "metadata": {},
     "output_type": "execute_result"
    }
   ],
   "source": [
    "main_dataframe.columns"
   ]
  },
  {
   "cell_type": "code",
   "execution_count": 19,
   "id": "162bcf9a",
   "metadata": {},
   "outputs": [
    {
     "data": {
      "text/html": [
       "<div>\n",
       "<style scoped>\n",
       "    .dataframe tbody tr th:only-of-type {\n",
       "        vertical-align: middle;\n",
       "    }\n",
       "\n",
       "    .dataframe tbody tr th {\n",
       "        vertical-align: top;\n",
       "    }\n",
       "\n",
       "    .dataframe thead th {\n",
       "        text-align: right;\n",
       "    }\n",
       "</style>\n",
       "<table border=\"1\" class=\"dataframe\">\n",
       "  <thead>\n",
       "    <tr style=\"text-align: right;\">\n",
       "      <th></th>\n",
       "      <th>mean_temp</th>\n",
       "      <th>high_temp</th>\n",
       "      <th>high_temp_time</th>\n",
       "      <th>low_temp</th>\n",
       "      <th>low_temp_time</th>\n",
       "      <th>rain(mm)</th>\n",
       "      <th>date</th>\n",
       "    </tr>\n",
       "  </thead>\n",
       "  <tbody>\n",
       "    <tr>\n",
       "      <th>23</th>\n",
       "      <td>13.1</td>\n",
       "      <td>17.9</td>\n",
       "      <td>16:20</td>\n",
       "      <td>9.8</td>\n",
       "      <td>00:00</td>\n",
       "      <td>0.0</td>\n",
       "      <td>2023-02-24</td>\n",
       "    </tr>\n",
       "    <tr>\n",
       "      <th>24</th>\n",
       "      <td>14.4</td>\n",
       "      <td>22.9</td>\n",
       "      <td>15:40</td>\n",
       "      <td>7.8</td>\n",
       "      <td>06:30</td>\n",
       "      <td>0.0</td>\n",
       "      <td>2023-02-25</td>\n",
       "    </tr>\n",
       "    <tr>\n",
       "      <th>25</th>\n",
       "      <td>17.4</td>\n",
       "      <td>22.0</td>\n",
       "      <td>15:40</td>\n",
       "      <td>13.6</td>\n",
       "      <td>01:40</td>\n",
       "      <td>0.0</td>\n",
       "      <td>2023-02-26</td>\n",
       "    </tr>\n",
       "    <tr>\n",
       "      <th>26</th>\n",
       "      <td>17.5</td>\n",
       "      <td>22.0</td>\n",
       "      <td>15:10</td>\n",
       "      <td>12.8</td>\n",
       "      <td>07:40</td>\n",
       "      <td>0.0</td>\n",
       "      <td>2023-02-27</td>\n",
       "    </tr>\n",
       "    <tr>\n",
       "      <th>27</th>\n",
       "      <td>14.0</td>\n",
       "      <td>16.1</td>\n",
       "      <td>16:20</td>\n",
       "      <td>11.7</td>\n",
       "      <td>00:00</td>\n",
       "      <td>0.0</td>\n",
       "      <td>2023-02-28</td>\n",
       "    </tr>\n",
       "  </tbody>\n",
       "</table>\n",
       "</div>"
      ],
      "text/plain": [
       "   mean_temp high_temp high_temp_time low_temp low_temp_time rain(mm)  \\\n",
       "23      13.1      17.9          16:20      9.8         00:00      0.0   \n",
       "24      14.4      22.9          15:40      7.8         06:30      0.0   \n",
       "25      17.4      22.0          15:40     13.6         01:40      0.0   \n",
       "26      17.5      22.0          15:10     12.8         07:40      0.0   \n",
       "27      14.0      16.1          16:20     11.7         00:00      0.0   \n",
       "\n",
       "         date  \n",
       "23 2023-02-24  \n",
       "24 2023-02-25  \n",
       "25 2023-02-26  \n",
       "26 2023-02-27  \n",
       "27 2023-02-28  "
      ]
     },
     "execution_count": 19,
     "metadata": {},
     "output_type": "execute_result"
    }
   ],
   "source": [
    "main_dataframe.tail(5)"
   ]
  },
  {
   "cell_type": "code",
   "execution_count": 20,
   "id": "628ffe83",
   "metadata": {},
   "outputs": [
    {
     "data": {
      "text/plain": [
       "mean_temp                 object\n",
       "high_temp                 object\n",
       "high_temp_time            object\n",
       "low_temp                  object\n",
       "low_temp_time             object\n",
       "rain(mm)                  object\n",
       "date              datetime64[ns]\n",
       "dtype: object"
      ]
     },
     "execution_count": 20,
     "metadata": {},
     "output_type": "execute_result"
    }
   ],
   "source": [
    "main_dataframe.dtypes"
   ]
  },
  {
   "cell_type": "code",
   "execution_count": 21,
   "id": "dae95581",
   "metadata": {},
   "outputs": [],
   "source": [
    "# convert format \n",
    "\n",
    "main_dataframe['mean_temp'] = main_dataframe['mean_temp'].astype(float, errors = 'raise')\n",
    "main_dataframe['high_temp'] = main_dataframe['high_temp'].astype(float, errors = 'raise')\n",
    "main_dataframe['low_temp'] = main_dataframe['low_temp'].astype(float, errors = 'raise')\n",
    "main_dataframe['rain(mm)'] = main_dataframe['rain(mm)'].astype(float, errors = 'raise')"
   ]
  },
  {
   "cell_type": "code",
   "execution_count": 22,
   "id": "c41904de",
   "metadata": {},
   "outputs": [],
   "source": [
    "# create new coluns\n",
    "#df['month'] = df['purchase_date'].to_numpy().astype('datetime64[M]')\n",
    "\n",
    "#main_dataframe['year_month'] = main_dataframe['date'].dt.strftime('%Y-%m')\n",
    "main_dataframe['year_month'] = main_dataframe['date'].to_numpy().astype('datetime64[M]')\n",
    "main_dataframe['month'] = main_dataframe['date'].dt.strftime('%m')\n",
    "main_dataframe['year'] = main_dataframe['date'].dt.strftime('%Y')\n",
    "main_dataframe['day'] = main_dataframe['date'].dt.strftime('%d')"
   ]
  },
  {
   "cell_type": "code",
   "execution_count": 23,
   "id": "8c5abcf3",
   "metadata": {},
   "outputs": [
    {
     "data": {
      "text/html": [
       "<div>\n",
       "<style scoped>\n",
       "    .dataframe tbody tr th:only-of-type {\n",
       "        vertical-align: middle;\n",
       "    }\n",
       "\n",
       "    .dataframe tbody tr th {\n",
       "        vertical-align: top;\n",
       "    }\n",
       "\n",
       "    .dataframe thead th {\n",
       "        text-align: right;\n",
       "    }\n",
       "</style>\n",
       "<table border=\"1\" class=\"dataframe\">\n",
       "  <thead>\n",
       "    <tr style=\"text-align: right;\">\n",
       "      <th></th>\n",
       "      <th>mean_temp</th>\n",
       "      <th>high_temp</th>\n",
       "      <th>high_temp_time</th>\n",
       "      <th>low_temp</th>\n",
       "      <th>low_temp_time</th>\n",
       "      <th>rain(mm)</th>\n",
       "      <th>date</th>\n",
       "      <th>year_month</th>\n",
       "      <th>month</th>\n",
       "      <th>year</th>\n",
       "      <th>day</th>\n",
       "    </tr>\n",
       "  </thead>\n",
       "  <tbody>\n",
       "    <tr>\n",
       "      <th>23</th>\n",
       "      <td>13.1</td>\n",
       "      <td>17.9</td>\n",
       "      <td>16:20</td>\n",
       "      <td>9.8</td>\n",
       "      <td>00:00</td>\n",
       "      <td>0.0</td>\n",
       "      <td>2023-02-24</td>\n",
       "      <td>2023-02-01</td>\n",
       "      <td>02</td>\n",
       "      <td>2023</td>\n",
       "      <td>24</td>\n",
       "    </tr>\n",
       "    <tr>\n",
       "      <th>24</th>\n",
       "      <td>14.4</td>\n",
       "      <td>22.9</td>\n",
       "      <td>15:40</td>\n",
       "      <td>7.8</td>\n",
       "      <td>06:30</td>\n",
       "      <td>0.0</td>\n",
       "      <td>2023-02-25</td>\n",
       "      <td>2023-02-01</td>\n",
       "      <td>02</td>\n",
       "      <td>2023</td>\n",
       "      <td>25</td>\n",
       "    </tr>\n",
       "    <tr>\n",
       "      <th>25</th>\n",
       "      <td>17.4</td>\n",
       "      <td>22.0</td>\n",
       "      <td>15:40</td>\n",
       "      <td>13.6</td>\n",
       "      <td>01:40</td>\n",
       "      <td>0.0</td>\n",
       "      <td>2023-02-26</td>\n",
       "      <td>2023-02-01</td>\n",
       "      <td>02</td>\n",
       "      <td>2023</td>\n",
       "      <td>26</td>\n",
       "    </tr>\n",
       "    <tr>\n",
       "      <th>26</th>\n",
       "      <td>17.5</td>\n",
       "      <td>22.0</td>\n",
       "      <td>15:10</td>\n",
       "      <td>12.8</td>\n",
       "      <td>07:40</td>\n",
       "      <td>0.0</td>\n",
       "      <td>2023-02-27</td>\n",
       "      <td>2023-02-01</td>\n",
       "      <td>02</td>\n",
       "      <td>2023</td>\n",
       "      <td>27</td>\n",
       "    </tr>\n",
       "    <tr>\n",
       "      <th>27</th>\n",
       "      <td>14.0</td>\n",
       "      <td>16.1</td>\n",
       "      <td>16:20</td>\n",
       "      <td>11.7</td>\n",
       "      <td>00:00</td>\n",
       "      <td>0.0</td>\n",
       "      <td>2023-02-28</td>\n",
       "      <td>2023-02-01</td>\n",
       "      <td>02</td>\n",
       "      <td>2023</td>\n",
       "      <td>28</td>\n",
       "    </tr>\n",
       "  </tbody>\n",
       "</table>\n",
       "</div>"
      ],
      "text/plain": [
       "    mean_temp  high_temp high_temp_time  low_temp low_temp_time  rain(mm)  \\\n",
       "23       13.1       17.9          16:20       9.8         00:00       0.0   \n",
       "24       14.4       22.9          15:40       7.8         06:30       0.0   \n",
       "25       17.4       22.0          15:40      13.6         01:40       0.0   \n",
       "26       17.5       22.0          15:10      12.8         07:40       0.0   \n",
       "27       14.0       16.1          16:20      11.7         00:00       0.0   \n",
       "\n",
       "         date year_month month  year day  \n",
       "23 2023-02-24 2023-02-01    02  2023  24  \n",
       "24 2023-02-25 2023-02-01    02  2023  25  \n",
       "25 2023-02-26 2023-02-01    02  2023  26  \n",
       "26 2023-02-27 2023-02-01    02  2023  27  \n",
       "27 2023-02-28 2023-02-01    02  2023  28  "
      ]
     },
     "execution_count": 23,
     "metadata": {},
     "output_type": "execute_result"
    }
   ],
   "source": [
    "main_dataframe.tail()"
   ]
  },
  {
   "cell_type": "code",
   "execution_count": 24,
   "id": "b2504301",
   "metadata": {},
   "outputs": [
    {
     "data": {
      "text/plain": [
       "mean_temp                float64\n",
       "high_temp                float64\n",
       "high_temp_time            object\n",
       "low_temp                 float64\n",
       "low_temp_time             object\n",
       "rain(mm)                 float64\n",
       "date              datetime64[ns]\n",
       "year_month         datetime64[s]\n",
       "month                     object\n",
       "year                      object\n",
       "day                       object\n",
       "dtype: object"
      ]
     },
     "execution_count": 24,
     "metadata": {},
     "output_type": "execute_result"
    }
   ],
   "source": [
    "main_dataframe.dtypes"
   ]
  },
  {
   "cell_type": "markdown",
   "id": "33437d0a",
   "metadata": {},
   "source": [
    "----------"
   ]
  }
 ],
 "metadata": {
  "kernelspec": {
   "display_name": "Python 3 (ipykernel)",
   "language": "python",
   "name": "python3"
  },
  "language_info": {
   "codemirror_mode": {
    "name": "ipython",
    "version": 3
   },
   "file_extension": ".py",
   "mimetype": "text/x-python",
   "name": "python",
   "nbconvert_exporter": "python",
   "pygments_lexer": "ipython3",
   "version": "3.8.13"
  }
 },
 "nbformat": 4,
 "nbformat_minor": 5
}
